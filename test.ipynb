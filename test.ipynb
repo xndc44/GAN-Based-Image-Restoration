{
 "cells": [
  {
   "metadata": {
    "ExecuteTime": {
     "end_time": "2025-07-24T14:00:40.481405Z",
     "start_time": "2025-07-24T14:00:40.479149Z"
    }
   },
   "cell_type": "code",
   "source": [
    "import cv2\n",
    "from pathlib import Path\n",
    "import numpy as np"
   ],
   "id": "6ade198853d2220e",
   "outputs": [],
   "execution_count": 2
  },
  {
   "cell_type": "code",
   "id": "initial_id",
   "metadata": {
    "collapsed": true,
    "ExecuteTime": {
     "end_time": "2025-07-24T14:01:26.857990Z",
     "start_time": "2025-07-24T14:01:26.854225Z"
    }
   },
   "source": [
    "def add_white_gaussian_noise(image_path='bluebird.jpg'):\n",
    "    image = cv2.imread(image_path)\n",
    "    std = 25  # fixed std dev\n",
    "    image_name = Path(image_path).stem\n",
    "    noise = np.random.normal(0, std, image.shape).astype(np.float32)\n",
    "    noisy = np.clip(image.astype(np.float32) + noise, 0, 255).astype(np.uint8)\n",
    "    cv2.imwrite('DeOldify/test_images/bluebird_noise.jpg', noisy)"
   ],
   "outputs": [],
   "execution_count": 5
  },
  {
   "metadata": {
    "ExecuteTime": {
     "end_time": "2025-07-24T14:01:27.916290Z",
     "start_time": "2025-07-24T14:01:27.885519Z"
    }
   },
   "cell_type": "code",
   "source": "add_white_gaussian_noise()",
   "id": "33e77dd7f79c0630",
   "outputs": [],
   "execution_count": 6
  }
 ],
 "metadata": {
  "kernelspec": {
   "display_name": "Python 3",
   "language": "python",
   "name": "python3"
  },
  "language_info": {
   "codemirror_mode": {
    "name": "ipython",
    "version": 2
   },
   "file_extension": ".py",
   "mimetype": "text/x-python",
   "name": "python",
   "nbconvert_exporter": "python",
   "pygments_lexer": "ipython2",
   "version": "2.7.6"
  }
 },
 "nbformat": 4,
 "nbformat_minor": 5
}
